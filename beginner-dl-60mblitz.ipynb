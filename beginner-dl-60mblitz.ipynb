{
 "cells": [
  {
   "cell_type": "code",
   "execution_count": 1,
   "metadata": {},
   "outputs": [],
   "source": [
    "%matplotlib inline"
   ]
  },
  {
   "cell_type": "markdown",
   "metadata": {},
   "source": [
    "# Contents\n",
    "* rand(), empty(), zeros(), tensor(), new_ones(), rand_like(), size()\n",
    "* [100 operations:](https://pytorch.org/docs/stable/torch.html)\n",
    "* Torch <=> Numpy\n",
    "* CUDA *not yet tested\n",
    "* Autograd\n",
    "* Gradients\n",
    "* Neural Net design\n",
    "* Loss Functions\n",
    "* Backprop\n",
    "* Updating Weights\n",
    "* Training a Classifier:\n",
    "    * Load & normalize CIFAR10 training, test\n",
    "    * Design a CNN\n",
    "    * Design a loss function & optimizer\n",
    "    * Train\n",
    "    * Test\n",
    "* Testing\n",
    "* Training on GPUs * not yet tested\n",
    "* Optional: Data Parallelism"
   ]
  },
  {
   "cell_type": "markdown",
   "metadata": {},
   "source": [
    "## What is Pytorch?\n",
    "* rand(), empty(), zeros(), tensor(), new_ones(), rand_like(), size()"
   ]
  },
  {
   "cell_type": "code",
   "execution_count": 2,
   "metadata": {},
   "outputs": [
    {
     "name": "stdout",
     "output_type": "stream",
     "text": [
      "tensor([[0.2719, 0.9809, 0.8674],\n",
      "        [0.8569, 0.4938, 0.7317],\n",
      "        [0.0993, 0.0480, 0.0143],\n",
      "        [0.7832, 0.9375, 0.3843],\n",
      "        [0.7222, 0.6466, 0.4846]])\n"
     ]
    }
   ],
   "source": [
    "from __future__ import print_function\n",
    "import torch\n",
    "\n",
    "x = torch.rand(5, 3) # randomly initialized 5x3 tensor.\n",
    "print(x)"
   ]
  },
  {
   "cell_type": "code",
   "execution_count": 3,
   "metadata": {},
   "outputs": [
    {
     "name": "stdout",
     "output_type": "stream",
     "text": [
      "tensor([[3.1031e-12, 4.5857e-41, 3.1031e-12],\n",
      "        [4.5857e-41, 4.4842e-44, 0.0000e+00],\n",
      "        [1.5695e-43, 0.0000e+00, 3.6809e-36],\n",
      "        [0.0000e+00, 1.8474e+20, 6.8906e+22],\n",
      "        [2.5176e-12, 1.4586e-19, 1.4917e-07]])\n"
     ]
    }
   ],
   "source": [
    "x = torch.empty(5,3) # uninitialized tensor\n",
    "print(x)"
   ]
  },
  {
   "cell_type": "code",
   "execution_count": 4,
   "metadata": {},
   "outputs": [
    {
     "name": "stdout",
     "output_type": "stream",
     "text": [
      "tensor([[0, 0, 0],\n",
      "        [0, 0, 0],\n",
      "        [0, 0, 0],\n",
      "        [0, 0, 0],\n",
      "        [0, 0, 0]])\n"
     ]
    }
   ],
   "source": [
    "x = torch.zeros(5,3, dtype=torch.long) # 5x3 zeros, dtype long\n",
    "print(x)"
   ]
  },
  {
   "cell_type": "code",
   "execution_count": 5,
   "metadata": {},
   "outputs": [
    {
     "name": "stdout",
     "output_type": "stream",
     "text": [
      "tensor([5.5000, 3.0000])\n"
     ]
    }
   ],
   "source": [
    "x = torch.tensor([5.5,3]) # create from constant data\n",
    "print(x)"
   ]
  },
  {
   "cell_type": "code",
   "execution_count": 6,
   "metadata": {},
   "outputs": [
    {
     "name": "stdout",
     "output_type": "stream",
     "text": [
      "tensor([[1., 1., 1.],\n",
      "        [1., 1., 1.],\n",
      "        [1., 1., 1.],\n",
      "        [1., 1., 1.],\n",
      "        [1., 1., 1.]], dtype=torch.float64)\n"
     ]
    }
   ],
   "source": [
    "x = x.new_ones(5,3,dtype=torch.double) # create from exisiting tensor\n",
    "print(x)                               # new_* methods accept sizes"
   ]
  },
  {
   "cell_type": "code",
   "execution_count": 7,
   "metadata": {},
   "outputs": [
    {
     "name": "stdout",
     "output_type": "stream",
     "text": [
      "tensor([[ 0.3164,  0.6417, -0.7297],\n",
      "        [ 1.1739,  1.6115,  1.0984],\n",
      "        [ 1.9360, -0.2025, -0.0628],\n",
      "        [ 0.4107,  0.8648,  0.2449],\n",
      "        [-1.0419,  0.6944, -0.7021]])\n"
     ]
    }
   ],
   "source": [
    "x = torch.randn_like(x, dtype=torch.float) # overrides data type\n",
    "print(x)"
   ]
  },
  {
   "cell_type": "code",
   "execution_count": 8,
   "metadata": {},
   "outputs": [
    {
     "name": "stdout",
     "output_type": "stream",
     "text": [
      "torch.Size([5, 3])\n"
     ]
    }
   ],
   "source": [
    "print(x.size())"
   ]
  },
  {
   "cell_type": "markdown",
   "metadata": {},
   "source": [
    "### Operations"
   ]
  },
  {
   "cell_type": "code",
   "execution_count": 9,
   "metadata": {},
   "outputs": [
    {
     "name": "stdout",
     "output_type": "stream",
     "text": [
      "tensor([[ 0.4352,  1.5889, -0.5450],\n",
      "        [ 1.5839,  1.7729,  1.8877],\n",
      "        [ 2.8425,  0.4335,  0.4658],\n",
      "        [ 0.8045,  1.7304,  0.5125],\n",
      "        [-0.2101,  1.5612, -0.0641]])\n"
     ]
    }
   ],
   "source": [
    "y = torch.rand(5,3)\n",
    "print(x+y)"
   ]
  },
  {
   "cell_type": "code",
   "execution_count": 10,
   "metadata": {},
   "outputs": [
    {
     "name": "stdout",
     "output_type": "stream",
     "text": [
      "tensor([[ 0.4352,  1.5889, -0.5450],\n",
      "        [ 1.5839,  1.7729,  1.8877],\n",
      "        [ 2.8425,  0.4335,  0.4658],\n",
      "        [ 0.8045,  1.7304,  0.5125],\n",
      "        [-0.2101,  1.5612, -0.0641]])\n"
     ]
    }
   ],
   "source": [
    "print(torch.add(x,y)) # alternative syntax"
   ]
  },
  {
   "cell_type": "code",
   "execution_count": 11,
   "metadata": {},
   "outputs": [
    {
     "name": "stdout",
     "output_type": "stream",
     "text": [
      "tensor([[ 0.4352,  1.5889, -0.5450],\n",
      "        [ 1.5839,  1.7729,  1.8877],\n",
      "        [ 2.8425,  0.4335,  0.4658],\n",
      "        [ 0.8045,  1.7304,  0.5125],\n",
      "        [-0.2101,  1.5612, -0.0641]])\n"
     ]
    }
   ],
   "source": [
    "result = torch.empty(5,3)\n",
    "torch.add(x, y, out=result)\n",
    "print(result)"
   ]
  },
  {
   "cell_type": "code",
   "execution_count": 12,
   "metadata": {},
   "outputs": [
    {
     "data": {
      "text/plain": [
       "tensor([[ 0.4352,  1.5889, -0.5450],\n",
       "        [ 1.5839,  1.7729,  1.8877],\n",
       "        [ 2.8425,  0.4335,  0.4658],\n",
       "        [ 0.8045,  1.7304,  0.5125],\n",
       "        [-0.2101,  1.5612, -0.0641]])"
      ]
     },
     "execution_count": 12,
     "metadata": {},
     "output_type": "execute_result"
    }
   ],
   "source": [
    "y.add_(x) # in-place addition.\n",
    "          # post-fix underscore signifies in-place mutation."
   ]
  },
  {
   "cell_type": "code",
   "execution_count": 13,
   "metadata": {},
   "outputs": [
    {
     "name": "stdout",
     "output_type": "stream",
     "text": [
      "tensor([ 0.6417,  1.6115, -0.2025,  0.8648,  0.6944])\n"
     ]
    }
   ],
   "source": [
    "print(x[:,1]) # numpy-like indexing"
   ]
  },
  {
   "cell_type": "code",
   "execution_count": 14,
   "metadata": {},
   "outputs": [
    {
     "name": "stdout",
     "output_type": "stream",
     "text": [
      "torch.Size([4, 4]) torch.Size([16]) torch.Size([2, 8])\n"
     ]
    }
   ],
   "source": [
    "# re-sizing & re-shaping tensors\n",
    "x = torch.rand(4,4)\n",
    "y = x.view(16)\n",
    "z = x.view(-1,8) # size -1 is inferred from other dimensions\n",
    "\n",
    "print(x.size(), y.size(), z.size())"
   ]
  },
  {
   "cell_type": "code",
   "execution_count": 15,
   "metadata": {},
   "outputs": [
    {
     "name": "stdout",
     "output_type": "stream",
     "text": [
      "tensor([-0.7101]) -0.7100942730903625\n"
     ]
    }
   ],
   "source": [
    "# one-element tensors: use item() to get Python numeric value\n",
    "x = torch.randn(1)\n",
    "print(x, x.item())"
   ]
  },
  {
   "cell_type": "markdown",
   "metadata": {},
   "source": [
    "### [100+ tensor operations, described here](https://pytorch.org/docs/torch)"
   ]
  },
  {
   "cell_type": "markdown",
   "metadata": {},
   "source": [
    "### Torch Tensors <==> Numpy Arrays\n",
    "* They share underlying memory locations (if Torch Tensor is on CPU).\n",
    "* All tensors on CPU support conversion to NumPy & back -- except CharTensor."
   ]
  },
  {
   "cell_type": "code",
   "execution_count": 16,
   "metadata": {},
   "outputs": [
    {
     "name": "stdout",
     "output_type": "stream",
     "text": [
      "tensor([1., 1., 1., 1., 1.])\n",
      "[1. 1. 1. 1. 1.]\n"
     ]
    }
   ],
   "source": [
    "a = torch.ones(5); print(a)\n",
    "b = a.numpy(); print(b)"
   ]
  },
  {
   "cell_type": "code",
   "execution_count": 17,
   "metadata": {},
   "outputs": [
    {
     "name": "stdout",
     "output_type": "stream",
     "text": [
      "tensor([2., 2., 2., 2., 2.])\n",
      "[2. 2. 2. 2. 2.]\n"
     ]
    }
   ],
   "source": [
    "a.add_(1); print(a); print(b) # notice how b changes too"
   ]
  },
  {
   "cell_type": "code",
   "execution_count": 18,
   "metadata": {},
   "outputs": [
    {
     "name": "stdout",
     "output_type": "stream",
     "text": [
      "[2. 2. 2. 2. 2.]\n",
      "tensor([2., 2., 2., 2., 2.], dtype=torch.float64)\n"
     ]
    },
    {
     "data": {
      "text/plain": [
       "(None, None)"
      ]
     },
     "execution_count": 18,
     "metadata": {},
     "output_type": "execute_result"
    }
   ],
   "source": [
    "import numpy as np # convert numpy array to torch tensor\n",
    "\n",
    "a = np.ones(5); b = torch.from_numpy(a)\n",
    "\n",
    "np.add(a, 1, out=a)\n",
    "print(a), print(b)"
   ]
  },
  {
   "cell_type": "markdown",
   "metadata": {},
   "source": [
    "### CUDA Tensors"
   ]
  },
  {
   "cell_type": "code",
   "execution_count": 19,
   "metadata": {},
   "outputs": [],
   "source": [
    "# run cell only if CUDA is available.\n",
    "\n",
    "if torch.cuda.is_available():\n",
    "    device = torch.device(\"cuda\")\n",
    "    y = torch.ones_like(x, device=device) # create on GPU\n",
    "    x = x.to(device) # move to GPU\n",
    "    z = x+y\n",
    "    print(z)\n",
    "    print(z.to(\"cpu\", torch.double))"
   ]
  },
  {
   "cell_type": "markdown",
   "metadata": {},
   "source": [
    "## [Autograd](https://pytorch.org/docs/stable/autograd.html#function): automatic differentiation\n",
    "\n",
    "* _torch.Tensor_ is the central point. \n",
    "* Tensors will automatically track all operations on it if __.requires_grad__ is set to __True__.\n",
    "* Gradients are store in __.grad__.\n",
    "* Use __.detach()__ to stop tracking history on a tensor.\n",
    "* Use __torch.no_grad()__ to prevent tracking history.\n",
    "\n",
    "* __Tensors__ & __Functions__ = interconnected; forms acyclic graphs with computational history. Each tensor has a .grad_fn that references a tensor's creator function.\n",
    "\n",
    "* Calling __.backward__ on a Tensor computes its derivatives.\n",
    "\n",
    "* if Tensor = scalar, no args needed for __.backward__.\n",
    "* if Tensor = >1 element, needs a _gradient_ arg = Tensor of matching shape."
   ]
  },
  {
   "cell_type": "code",
   "execution_count": 20,
   "metadata": {},
   "outputs": [],
   "source": [
    "import torch"
   ]
  },
  {
   "cell_type": "code",
   "execution_count": 21,
   "metadata": {},
   "outputs": [
    {
     "name": "stdout",
     "output_type": "stream",
     "text": [
      "tensor([[1., 1.],\n",
      "        [1., 1.]], requires_grad=True)\n"
     ]
    }
   ],
   "source": [
    "# track computation on this new tensor\n",
    "x = torch.ones(2,2, requires_grad=True); print(x)"
   ]
  },
  {
   "cell_type": "code",
   "execution_count": 22,
   "metadata": {},
   "outputs": [
    {
     "name": "stdout",
     "output_type": "stream",
     "text": [
      "tensor([[3., 3.],\n",
      "        [3., 3.]], grad_fn=<AddBackward0>)\n"
     ]
    }
   ],
   "source": [
    "# basic tensor ops\n",
    "y = x+2; print(y)"
   ]
  },
  {
   "cell_type": "code",
   "execution_count": 23,
   "metadata": {},
   "outputs": [
    {
     "name": "stdout",
     "output_type": "stream",
     "text": [
      "<AddBackward0 object at 0x7fd4a35afef0>\n"
     ]
    }
   ],
   "source": [
    "# y was created due to an op - so it has a grad_fn.\n",
    "print(y.grad_fn)"
   ]
  },
  {
   "cell_type": "code",
   "execution_count": 24,
   "metadata": {},
   "outputs": [
    {
     "name": "stdout",
     "output_type": "stream",
     "text": [
      "tensor([[27., 27.],\n",
      "        [27., 27.]], grad_fn=<MulBackward0>) tensor(27., grad_fn=<MeanBackward0>)\n"
     ]
    }
   ],
   "source": [
    "z = y*y*3; out = z.mean() # do some more ops on y:\n",
    "print(z,out)"
   ]
  },
  {
   "cell_type": "code",
   "execution_count": 25,
   "metadata": {},
   "outputs": [
    {
     "name": "stdout",
     "output_type": "stream",
     "text": [
      "tensor([[-18.3443,   6.1879],\n",
      "        [  1.1414,  -3.3800]])\n",
      "False\n"
     ]
    }
   ],
   "source": [
    "# .requires_grad_(...) changes Tensor's requires_flag in-place.\n",
    "# default = False\n",
    "\n",
    "a = torch.randn(2,2); a = ((a*3) / (a-1))\n",
    "print(a)\n",
    "print(a.requires_grad)"
   ]
  },
  {
   "cell_type": "code",
   "execution_count": 26,
   "metadata": {},
   "outputs": [
    {
     "name": "stdout",
     "output_type": "stream",
     "text": [
      "True\n"
     ]
    }
   ],
   "source": [
    "a.requires_grad_(True)\n",
    "print(a.requires_grad)"
   ]
  },
  {
   "cell_type": "code",
   "execution_count": 27,
   "metadata": {},
   "outputs": [
    {
     "name": "stdout",
     "output_type": "stream",
     "text": [
      "<SumBackward0 object at 0x7fd4a35c6668>\n"
     ]
    }
   ],
   "source": [
    "b = (a*a).sum()\n",
    "print(b.grad_fn)"
   ]
  },
  {
   "cell_type": "markdown",
   "metadata": {},
   "source": [
    "### Gradients\n",
    "* if out contains one scalar, out.backward() is equivalent\n",
    "* to out.backward(torch.tensor(1.))"
   ]
  },
  {
   "cell_type": "code",
   "execution_count": 28,
   "metadata": {},
   "outputs": [
    {
     "name": "stdout",
     "output_type": "stream",
     "text": [
      "tensor(27., grad_fn=<MeanBackward0>)\n"
     ]
    }
   ],
   "source": [
    "print(out)"
   ]
  },
  {
   "cell_type": "code",
   "execution_count": 29,
   "metadata": {},
   "outputs": [],
   "source": [
    "out.backward()"
   ]
  },
  {
   "cell_type": "code",
   "execution_count": 30,
   "metadata": {},
   "outputs": [
    {
     "name": "stdout",
     "output_type": "stream",
     "text": [
      "tensor([[4.5000, 4.5000],\n",
      "        [4.5000, 4.5000]])\n"
     ]
    }
   ],
   "source": [
    "print(x.grad) # gradient = d(out)/dx"
   ]
  },
  {
   "cell_type": "markdown",
   "metadata": {},
   "source": [
    "* math: if you have vector-valued function ~y, gradient of ~y w.r.t. ~x  is a __Jacobian matrix__(J).\n",
    "* _torch.autograd_ = engine for computing vector-Jacobian products.\n",
    "* given v = (v1,v2,..vm)^T, then by chain rule:\n",
    "    - vector-Jacobian product = gradient of i w.r.t. ~x.\n"
   ]
  },
  {
   "cell_type": "code",
   "execution_count": 31,
   "metadata": {},
   "outputs": [
    {
     "name": "stdout",
     "output_type": "stream",
     "text": [
      "tensor([1802.9298, -486.9362,  405.6355], grad_fn=<MulBackward0>)\n"
     ]
    }
   ],
   "source": [
    "# example of a vector-Jacobian product\n",
    "x = torch.randn(3, requires_grad=True)\n",
    "y = x*2\n",
    "\n",
    "while y.data.norm() < 1000:\n",
    "    y = y*2\n",
    "    \n",
    "print(y)"
   ]
  },
  {
   "cell_type": "code",
   "execution_count": 32,
   "metadata": {},
   "outputs": [
    {
     "name": "stdout",
     "output_type": "stream",
     "text": [
      "tensor([1.0240e+02, 1.0240e+03, 1.0240e-01])\n"
     ]
    }
   ],
   "source": [
    "# y is no longer a scalar.\n",
    "# torch.autograd can't directly compute full Jacobian.\n",
    "# pass the vector to .backward to get the vector-Jacobian product.\n",
    "\n",
    "v = torch.tensor([0.1, 1.0, 0.0001], dtype=torch.float)\n",
    "y.backward(v)\n",
    "print(x.grad)"
   ]
  },
  {
   "cell_type": "code",
   "execution_count": 33,
   "metadata": {},
   "outputs": [
    {
     "name": "stdout",
     "output_type": "stream",
     "text": [
      "True\n",
      "True\n",
      "False\n"
     ]
    }
   ],
   "source": [
    "# stopping autograd from tracking Tensor history\n",
    "\n",
    "print(x.requires_grad)\n",
    "print((x**2).requires_grad)\n",
    "\n",
    "with torch.no_grad():\n",
    "    print((x**2).requires_grad)"
   ]
  },
  {
   "cell_type": "code",
   "execution_count": 34,
   "metadata": {},
   "outputs": [
    {
     "name": "stdout",
     "output_type": "stream",
     "text": [
      "True\n",
      "False\n",
      "tensor(True)\n"
     ]
    }
   ],
   "source": [
    "# use .detach to get new Tensor with same content,\n",
    "# but doesn't require gradients.\n",
    "print(x.requires_grad)\n",
    "y = x.detach()\n",
    "print(y.requires_grad)\n",
    "print(x.eq(y).all())"
   ]
  },
  {
   "cell_type": "markdown",
   "metadata": {},
   "source": [
    "* [read later: autograd functions](https://pytorch.org/docs/stable/autograd.html#function)"
   ]
  },
  {
   "cell_type": "markdown",
   "metadata": {},
   "source": [
    "## Neural Net design\n",
    "![convnet](convnet.png)\n",
    "* _nn_ depends on _autograd_ to build & differentiate models.\n",
    "* _nn.Module_ contains layers & method _forward(input)_ -> returns _output_.\n",
    "* above: digits classifier (convnet)\n",
    "* simple feed-fwd net\n",
    "* typical training steps:\n",
    "    - define net with learning params/weights\n",
    "    - iterate over dataset of inputs\n",
    "    - process inputs through net\n",
    "    - compute loss \n",
    "    - propagate gradients back into params\n",
    "    - update net weights as follows:\n",
    "        _weight_ = _weight_ - _learning_rate_ * _gradient_"
   ]
  },
  {
   "cell_type": "code",
   "execution_count": 35,
   "metadata": {},
   "outputs": [],
   "source": [
    "# define net\n",
    "import torch, torch.nn as nn, torch.nn.functional as F"
   ]
  },
  {
   "cell_type": "code",
   "execution_count": 36,
   "metadata": {},
   "outputs": [
    {
     "name": "stdout",
     "output_type": "stream",
     "text": [
      "Net(\n",
      "  (conv1): Conv2d(1, 6, kernel_size=(3, 3), stride=(1, 1))\n",
      "  (conv2): Conv2d(6, 16, kernel_size=(3, 3), stride=(1, 1))\n",
      "  (fc1): Linear(in_features=576, out_features=120, bias=True)\n",
      "  (fc2): Linear(in_features=120, out_features=84, bias=True)\n",
      "  (fc3): Linear(in_features=84, out_features=10, bias=True)\n",
      ")\n"
     ]
    }
   ],
   "source": [
    "class Net(nn.Module):\n",
    "\n",
    "    def __init__(self):\n",
    "        super(Net, self).__init__()\n",
    "        \n",
    "        # channels (1 input image, 6 outputs), 3x3 square convolutional kernel\n",
    "        self.conv1 = nn.Conv2d(1, 6, 3)\n",
    "        self.conv2 = nn.Conv2d(6, 16, 3)\n",
    "        \n",
    "        # an affine operation: y = Wx + b\n",
    "        self.fc1 = nn.Linear(16 * 6 * 6, 120)  # 6*6 from image dimension\n",
    "        self.fc2 = nn.Linear(120, 84)\n",
    "        self.fc3 = nn.Linear(84, 10)\n",
    "\n",
    "    def forward(self, x):\n",
    "        \n",
    "        # Max pooling over a (2, 2) window\n",
    "        x = F.max_pool2d(\n",
    "            F.relu(\n",
    "                self.conv1(x)), (2, 2))\n",
    "        \n",
    "        # If the size is a square you can only specify a single number\n",
    "        x = F.max_pool2d(\n",
    "            F.relu(\n",
    "                self.conv2(x)), 2)\n",
    "        \n",
    "        x = x.view(-1, self.num_flat_features(x))\n",
    "        \n",
    "        x = F.relu(self.fc1(x))\n",
    "        x = F.relu(self.fc2(x))\n",
    "        x = self.fc3(x)\n",
    "        return x\n",
    "\n",
    "    def num_flat_features(self, x):\n",
    "        size = x.size()[1:]  # all dimensions except the batch dimension\n",
    "        num_features = 1\n",
    "        for s in size:\n",
    "            num_features *= s\n",
    "        return num_features\n",
    "\n",
    "\n",
    "net = Net()\n",
    "print(net)"
   ]
  },
  {
   "cell_type": "markdown",
   "metadata": {},
   "source": [
    "* define _forward_ function - \n",
    "* _backward_ function (where gradients are built) is auto-defined via _autograd_.\n",
    "* can use any Tensor op in _forward_ function."
   ]
  },
  {
   "cell_type": "code",
   "execution_count": 37,
   "metadata": {},
   "outputs": [
    {
     "name": "stdout",
     "output_type": "stream",
     "text": [
      "10\n",
      "torch.Size([6, 1, 3, 3])\n"
     ]
    }
   ],
   "source": [
    "# model's learnable parameters:\n",
    "params = list(net.parameters())\n",
    "print(len(params))\n",
    "print(params[0].size())"
   ]
  },
  {
   "cell_type": "code",
   "execution_count": 38,
   "metadata": {},
   "outputs": [
    {
     "name": "stdout",
     "output_type": "stream",
     "text": [
      "tensor([[ 0.1358, -0.0388, -0.0963,  0.0509, -0.0084,  0.0572, -0.0071, -0.1242,\n",
      "         -0.0646,  0.0194]], grad_fn=<AddmmBackward>)\n"
     ]
    }
   ],
   "source": [
    "# try random 32x32 input -- same size as LeNet's expected input size.\n",
    "# to use this net on MNIST data, need to resize MNIST images to 32x32.\n",
    "input = torch.randn(1,1,32,32)\n",
    "out = net(input); print(out)"
   ]
  },
  {
   "cell_type": "code",
   "execution_count": 39,
   "metadata": {},
   "outputs": [],
   "source": [
    "# setgradient buffers of all params & backprops with random gradients to zero\n",
    "net.zero_grad()\n",
    "out.backward(torch.randn(1,10))"
   ]
  },
  {
   "cell_type": "markdown",
   "metadata": {},
   "source": [
    "## Loss Function\n",
    "* takes a pair (output, target) of inputs\n",
    "* returns estimated distance value\n",
    "* [multiple loss function options](https://pytorch.org/docs/nn.html#loss-functions), example: _nn.MSELoss_ (mean-squared error)"
   ]
  },
  {
   "cell_type": "code",
   "execution_count": 40,
   "metadata": {},
   "outputs": [
    {
     "name": "stdout",
     "output_type": "stream",
     "text": [
      "tensor(0.9149, grad_fn=<MseLossBackward>)\n"
     ]
    }
   ],
   "source": [
    "output = net(input)\n",
    "target = torch.randn(10) # dummy target\n",
    "target = target.view(1,-1) # make it same shape as output\n",
    "criterion = nn.MSELoss()\n",
    "loss      = criterion(output,target)\n",
    "print(loss)"
   ]
  },
  {
   "cell_type": "markdown",
   "metadata": {},
   "source": [
    "* below: computation graph from _loss_ functionality (as defined by _.grad_fn)\n",
    "\n",
    "    input -> conv2d -> relu -> maxpool2d -> conv2d -> relu -> maxpool2d\n",
    "          -> view -> linear -> relu -> linear -> relu -> linear\n",
    "          -> MSELoss\n",
    "          -> loss\n",
    "          \n",
    "* when you call _loss.backward()_: entire graph is diff'd wrt loss. all Tensors in graph with _requires_grad=True_ will have their _.grad_ Tensor accumulated with the gradient."
   ]
  },
  {
   "cell_type": "code",
   "execution_count": 41,
   "metadata": {},
   "outputs": [
    {
     "name": "stdout",
     "output_type": "stream",
     "text": [
      "<MseLossBackward object at 0x7fd4a355c6d8>\n",
      "<AddmmBackward object at 0x7fd4a355c668>\n",
      "<AccumulateGrad object at 0x7fd4a355c6d8>\n"
     ]
    }
   ],
   "source": [
    "# looking backward:\n",
    "print(loss.grad_fn) # MSE\n",
    "print(loss.grad_fn.next_functions[0][0]) # Linear\n",
    "print(loss.grad_fn.next_functions[0][0].next_functions[0][0]) # ReLU"
   ]
  },
  {
   "cell_type": "markdown",
   "metadata": {},
   "source": [
    "## Backprop\n",
    "* backprop errors with _loss.backward()\n",
    "* clear existing gradients, otherwise gradients will be cumulative.\n",
    "* [neural net package modules & loss functions](https://pytorch.org/docs/nn)"
   ]
  },
  {
   "cell_type": "code",
   "execution_count": 42,
   "metadata": {},
   "outputs": [
    {
     "name": "stdout",
     "output_type": "stream",
     "text": [
      "before backward tensor([0., 0., 0., 0., 0., 0.])\n",
      "after backward tensor([ 0.0091,  0.0004,  0.0026, -0.0151,  0.0171,  0.0171])\n"
     ]
    }
   ],
   "source": [
    "net.zero_grad() \n",
    "print('before backward', net.conv1.bias.grad)\n",
    "loss.backward()\n",
    "print('after backward', net.conv1.bias.grad)"
   ]
  },
  {
   "cell_type": "markdown",
   "metadata": {},
   "source": [
    "## Updating the Weights\n",
    "* simplest rule: Stochastic Gradient Descent (SGD)\n",
    "* _weight_ = _weight_ - _learning_rate_ * _gradient_"
   ]
  },
  {
   "cell_type": "code",
   "execution_count": 43,
   "metadata": {},
   "outputs": [],
   "source": [
    "learning_rate = 0.01\n",
    "for f in net.parameters():\n",
    "    f.data.sub_(f.grad.data * learning_rate)"
   ]
  },
  {
   "cell_type": "markdown",
   "metadata": {},
   "source": [
    "* multiple update rules availble:\n",
    "    - SGD, Nesterov-SGD, Adam, RMSProp, ...\n",
    "* below: example optimizer"
   ]
  },
  {
   "cell_type": "code",
   "execution_count": 44,
   "metadata": {},
   "outputs": [],
   "source": [
    "import torch.optim as optim\n",
    "optimizer = optim.SGD(net.parameters(), lr=0.01)\n",
    "\n",
    "optimizer.zero_grad() # set gradient buffers to zero\n",
    "output = net(input)\n",
    "loss = criterion(output,target)\n",
    "loss.backward()\n",
    "optimizer.step() # do the updating"
   ]
  },
  {
   "cell_type": "markdown",
   "metadata": {},
   "source": [
    "## Training a Classifier\n",
    "\n",
    "- data loading: use std Python pkgs that load image/text/audio/video/.. into NumPy arrays -- then use _torch.*Tensor_ to convert.\n",
    "- images: Pillow, OpenCV (scikit-image?)\n",
    "- audio: scipy, librosa\n",
    "- text: python/cython basics, NLTK, SpaCy\n",
    "- vision: __torchvision__ \n",
    "    (loaders for imagenet, cifar10, mnist, ...)\n",
    "    (data transformers: _torchvision.datasets_, _torch.utils.data.DataLoader_)"
   ]
  },
  {
   "cell_type": "markdown",
   "metadata": {},
   "source": [
    "* CIFAR10 dataset: 10 classes, 3x32x32 (3-channel color images)\n",
    "![png](cifar10.png)"
   ]
  },
  {
   "cell_type": "code",
   "execution_count": 45,
   "metadata": {},
   "outputs": [],
   "source": [
    "# load & normalize CIFAR10\n",
    "import torch, torchvision, torchvision.transforms as transforms"
   ]
  },
  {
   "cell_type": "code",
   "execution_count": 46,
   "metadata": {},
   "outputs": [
    {
     "name": "stderr",
     "output_type": "stream",
     "text": [
      "0it [00:00, ?it/s]"
     ]
    },
    {
     "name": "stdout",
     "output_type": "stream",
     "text": [
      "Downloading https://www.cs.toronto.edu/~kriz/cifar-10-python.tar.gz to ./data/cifar-10-python.tar.gz\n"
     ]
    },
    {
     "name": "stderr",
     "output_type": "stream",
     "text": [
      "100%|█████████▉| 170483712/170498071 [15:23<00:00, 184085.65it/s]"
     ]
    },
    {
     "name": "stdout",
     "output_type": "stream",
     "text": [
      "Extracting ./data/cifar-10-python.tar.gz to ./data\n",
      "Files already downloaded and verified\n"
     ]
    }
   ],
   "source": [
    "# output of torchvision datasets = PILImage images, range[0,1]\n",
    "# transform to tensors w/ normalized range [-1,+1]\n",
    "\n",
    "transform = transforms.Compose(\n",
    "    [transforms.ToTensor(),\n",
    "     transforms.Normalize((0.5, 0.5, 0.5), \n",
    "                          (0.5, 0.5, 0.5))])\n",
    "\n",
    "trainset = torchvision.datasets.CIFAR10(root='./data', \n",
    "                                        train=True,\n",
    "                                        download=True, \n",
    "                                        transform=transform)\n",
    "trainloader = torch.utils.data.DataLoader(trainset, \n",
    "                                          batch_size=4,\n",
    "                                          shuffle=True, \n",
    "                                          num_workers=2)\n",
    "\n",
    "testset = torchvision.datasets.CIFAR10(root='./data', \n",
    "                                       train=False,\n",
    "                                       download=True, \n",
    "                                       transform=transform)\n",
    "\n",
    "testloader = torch.utils.data.DataLoader(testset, \n",
    "                                         batch_size=4,\n",
    "                                         shuffle=False, \n",
    "                                         num_workers=2)\n",
    "\n",
    "classes = ('plane', 'car', 'bird', 'cat', 'deer', \n",
    "           'dog', 'frog', 'horse', 'ship', 'truck')"
   ]
  },
  {
   "cell_type": "code",
   "execution_count": 47,
   "metadata": {},
   "outputs": [
    {
     "data": {
      "image/png": "[encoded data removed]",
      "text/plain": [
       "<Figure size 432x288 with 1 Axes>"
      ]
     },
     "metadata": {
      "needs_background": "light"
     },
     "output_type": "display_data"
    },
    {
     "name": "stdout",
     "output_type": "stream",
     "text": [
      " frog  deer  deer plane\n"
     ]
    }
   ],
   "source": [
    "# view what we've got\n",
    "import matplotlib.pyplot as plt\n",
    "import numpy as np\n",
    "\n",
    "# functions to show an image\n",
    "def imshow(img):\n",
    "    img = img / 2 + 0.5     # unnormalize\n",
    "    npimg = img.numpy()\n",
    "    plt.imshow(np.transpose(npimg, (1, 2, 0)))\n",
    "    plt.show()\n",
    "\n",
    "# get some random training images\n",
    "dataiter = iter(trainloader)\n",
    "images, labels = dataiter.next()\n",
    "\n",
    "# show images\n",
    "imshow(torchvision.utils.make_grid(images))\n",
    "# print labels\n",
    "print(' '.join('%5s' % classes[labels[j]] for j in range(4)))"
   ]
  },
  {
   "cell_type": "markdown",
   "metadata": {},
   "source": [
    "## Define a Convolutional Neural Net\n",
    "- copy & modify previous net for using 3-channel images"
   ]
  },
  {
   "cell_type": "code",
   "execution_count": 48,
   "metadata": {},
   "outputs": [],
   "source": [
    "import torch.nn as nn\n",
    "import torch.nn.functional as F\n",
    "\n",
    "\n",
    "class Net(nn.Module):\n",
    "    def __init__(self):\n",
    "        super(Net, self).__init__()\n",
    "        self.conv1 = nn.Conv2d(3, 6, 5)\n",
    "        self.pool = nn.MaxPool2d(2, 2)\n",
    "        self.conv2 = nn.Conv2d(6, 16, 5)\n",
    "        self.fc1 = nn.Linear(16 * 5 * 5, 120)\n",
    "        self.fc2 = nn.Linear(120, 84)\n",
    "        self.fc3 = nn.Linear(84, 10)\n",
    "\n",
    "    def forward(self, x):\n",
    "        x = self.pool(F.relu(self.conv1(x)))\n",
    "        x = self.pool(F.relu(self.conv2(x)))\n",
    "        x = x.view(-1, 16 * 5 * 5)\n",
    "        x = F.relu(self.fc1(x))\n",
    "        x = F.relu(self.fc2(x))\n",
    "        x = self.fc3(x)\n",
    "        return x\n",
    "\n",
    "net = Net()"
   ]
  },
  {
   "cell_type": "code",
   "execution_count": 49,
   "metadata": {},
   "outputs": [],
   "source": [
    "# define loss function (cross-entropy loss) & optimizer (SGD with momentum)\n",
    "import torch.optim as optim\n",
    "criterion = nn.CrossEntropyLoss()\n",
    "optimizer = optim.SGD(net.parameters(), lr=0.01, momentum=0.9)"
   ]
  },
  {
   "cell_type": "code",
   "execution_count": 50,
   "metadata": {},
   "outputs": [
    {
     "name": "stderr",
     "output_type": "stream",
     "text": [
      "170500096it [15:40, 184085.65it/s]                               "
     ]
    },
    {
     "name": "stdout",
     "output_type": "stream",
     "text": [
      "[1,  2000] loss: 2.066\n",
      "[1,  4000] loss: 1.944\n",
      "[1,  6000] loss: 1.952\n",
      "[1,  8000] loss: 1.929\n",
      "[1, 10000] loss: 1.948\n",
      "[1, 12000] loss: 1.937\n",
      "[2,  2000] loss: 1.946\n",
      "[2,  4000] loss: 1.950\n",
      "[2,  6000] loss: 1.986\n",
      "[2,  8000] loss: 1.963\n",
      "[2, 10000] loss: 1.942\n",
      "[2, 12000] loss: 1.913\n",
      "Done Training\n"
     ]
    }
   ],
   "source": [
    "# train the net\n",
    "\n",
    "for epoch in range(2):  # loop over the dataset multiple times\n",
    "\n",
    "    running_loss = 0.0\n",
    "    for i, data in enumerate(trainloader, 0):\n",
    "\n",
    "        inputs, labels = data # data is a list of [inputs, labels]\n",
    "        optimizer.zero_grad() # zero the parameter gradients\n",
    "        outputs = net(inputs) # forward + backward + optimize\n",
    "        loss = criterion(outputs, labels)\n",
    "        loss.backward()\n",
    "        optimizer.step()\n",
    "\n",
    "        # statistics\n",
    "        running_loss += loss.item()\n",
    "        if i % 2000 == 1999:    # print every 2000 mini-batches\n",
    "            print('[%d, %5d] loss: %.3f' %\n",
    "                  (epoch + 1, i + 1, running_loss / 2000))\n",
    "            running_loss = 0.0\n",
    "\n",
    "print('Done Training')"
   ]
  },
  {
   "cell_type": "code",
   "execution_count": 51,
   "metadata": {},
   "outputs": [],
   "source": [
    "# save trained model\n",
    "PATH = \"./cifar_net.pth\"\n",
    "torch.save(net.state_dict(), PATH)"
   ]
  },
  {
   "cell_type": "markdown",
   "metadata": {},
   "source": [
    "[saving pytorch models = serialization](https://pytorch.org/docs/stable/notes/serialization.html)"
   ]
  },
  {
   "cell_type": "code",
   "execution_count": 52,
   "metadata": {},
   "outputs": [
    {
     "name": "stdout",
     "output_type": "stream",
     "text": [
      "cifar_net.pth\n"
     ]
    }
   ],
   "source": [
    "!ls *.pth"
   ]
  },
  {
   "cell_type": "markdown",
   "metadata": {},
   "source": [
    "## Test network on test data\n",
    "* trained net on training dataset (2 passes). did it learn?\n",
    "* predict class labels from outputs -- compare to ground truth labels\n",
    "* if prediction is correct -- add sample to list-of-correct-answers"
   ]
  },
  {
   "cell_type": "code",
   "execution_count": 53,
   "metadata": {},
   "outputs": [
    {
     "data": {
      "image/png": "[encoded data removed]",
      "text/plain": [
       "<Figure size 432x288 with 1 Axes>"
      ]
     },
     "metadata": {
      "needs_background": "light"
     },
     "output_type": "display_data"
    },
    {
     "name": "stdout",
     "output_type": "stream",
     "text": [
      "ground truth:   cat  ship  ship plane\n"
     ]
    }
   ],
   "source": [
    "dataiter = iter(testloader)\n",
    "images,labels = dataiter.next()\n",
    "imshow(torchvision.utils.make_grid(images))\n",
    "print('ground truth:',' '.join('%5s' % classes[labels[j]] for j in range(4)))"
   ]
  },
  {
   "cell_type": "code",
   "execution_count": 54,
   "metadata": {},
   "outputs": [
    {
     "data": {
      "text/plain": [
       "<All keys matched successfully>"
      ]
     },
     "execution_count": 54,
     "metadata": {},
     "output_type": "execute_result"
    }
   ],
   "source": [
    "# load saved model (not needed, but good for illustration)\n",
    "net = Net()\n",
    "net.load_state_dict(torch.load(PATH))"
   ]
  },
  {
   "cell_type": "code",
   "execution_count": 55,
   "metadata": {},
   "outputs": [],
   "source": [
    "# what have we got?\n",
    "outputs = net(images)"
   ]
  },
  {
   "cell_type": "code",
   "execution_count": 56,
   "metadata": {},
   "outputs": [
    {
     "name": "stdout",
     "output_type": "stream",
     "text": [
      "Predicted:   frog   car  ship  ship\n"
     ]
    }
   ],
   "source": [
    "# get index with highest \"energy\" (high energy = high confidence of a match.)\n",
    "_, predicted = torch.max(outputs,1)\n",
    "\n",
    "print('Predicted: ', ' '.join('%5s' % classes[predicted[j]]\n",
    "                              for j in range(4)))"
   ]
  },
  {
   "cell_type": "code",
   "execution_count": 57,
   "metadata": {},
   "outputs": [
    {
     "name": "stdout",
     "output_type": "stream",
     "text": [
      "Accuracy on 10K test images: 25 %\n"
     ]
    }
   ],
   "source": [
    "# how does net perform on entire dataset?\n",
    "correct, total = 0,0\n",
    "\n",
    "with torch.no_grad():\n",
    "    for data in testloader:\n",
    "        images, labels = data\n",
    "        outputs        = net(images)\n",
    "        _, predicted   = torch.max(outputs.data, 1)\n",
    "        total         += labels.size(0)\n",
    "        correct       += (predicted == labels).sum().item()\n",
    "\n",
    "print('Accuracy on 10K test images: %d %%' % (\n",
    "    100 * correct / total))\n"
   ]
  },
  {
   "cell_type": "code",
   "execution_count": 58,
   "metadata": {},
   "outputs": [
    {
     "name": "stdout",
     "output_type": "stream",
     "text": [
      "Accuracy of plane :  7 %\n",
      "Accuracy of   car : 56 %\n",
      "Accuracy of  bird :  1 %\n",
      "Accuracy of   cat :  7 %\n",
      "Accuracy of  deer :  2 %\n",
      "Accuracy of   dog : 25 %\n",
      "Accuracy of  frog : 63 %\n",
      "Accuracy of horse : 34 %\n",
      "Accuracy of  ship : 34 %\n",
      "Accuracy of truck : 23 %\n"
     ]
    }
   ],
   "source": [
    "# chance accuracy = 10% (1/10). What worked?\n",
    "\n",
    "class_correct = list(0. for i in range(10))\n",
    "class_total   = list(0. for i in range(10))\n",
    "\n",
    "with torch.no_grad():\n",
    "    for data in testloader:\n",
    "        images, labels = data\n",
    "        outputs        = net(images)\n",
    "        _, predicted   = torch.max(outputs, 1)\n",
    "        c              = (predicted == labels).squeeze()\n",
    "        \n",
    "        for i in range(4):\n",
    "            label                 = labels[i]\n",
    "            class_correct[label] += c[i].item()\n",
    "            class_total[label]   += 1\n",
    "\n",
    "for i in range(10):\n",
    "    print('Accuracy of %5s : %2d %%' % (\n",
    "        classes[i], 100 * class_correct[i] / class_total[i]))"
   ]
  },
  {
   "cell_type": "markdown",
   "metadata": {},
   "source": [
    "## Training on GPUs (or CPUs)"
   ]
  },
  {
   "cell_type": "code",
   "execution_count": 59,
   "metadata": {},
   "outputs": [
    {
     "name": "stdout",
     "output_type": "stream",
     "text": [
      "cpu\n"
     ]
    }
   ],
   "source": [
    "device = torch.device(\"cuda:0\" if torch.cuda.is_available() else \"cpu\")\n",
    "print(device)"
   ]
  },
  {
   "cell_type": "code",
   "execution_count": 60,
   "metadata": {},
   "outputs": [],
   "source": [
    "# for cuda:\n",
    "# net.to(device) # converts all params & buffers to CUDA tensors"
   ]
  },
  {
   "cell_type": "code",
   "execution_count": 61,
   "metadata": {},
   "outputs": [],
   "source": [
    "# for cuda -- send inputs, targets at every step to CUDA\n",
    "# inputs,labels = data[0].to(device), data[1].to(device)"
   ]
  },
  {
   "cell_type": "markdown",
   "metadata": {},
   "source": [
    "## [Data Parallelism](https://pytorch.org/tutorials/beginner/blitz/data_parallel_tutorial.html)\n",
    "- imports\n",
    "- dummy dataset\n",
    "- simple model\n",
    "- create model & DataParallel\n",
    "- run model\n",
    "- results (2 gpus, 3 gpus, 8 gpus)\n",
    "- summary"
   ]
  }
 ],
 "metadata": {
  "kernelspec": {
   "display_name": "Python 3",
   "language": "python",
   "name": "python3"
  },
  "language_info": {
   "codemirror_mode": {
    "name": "ipython",
    "version": 3
   },
   "file_extension": ".py",
   "mimetype": "text/x-python",
   "name": "python",
   "nbconvert_exporter": "python",
   "pygments_lexer": "ipython3",
   "version": "3.6.9"
  }
 },
 "nbformat": 4,
 "nbformat_minor": 4
}
